{
  "nbformat": 4,
  "nbformat_minor": 0,
  "metadata": {
    "colab": {
      "name": "Computation_intro.ipynb",
      "provenance": [],
      "toc_visible": true
    },
    "kernelspec": {
      "name": "python3",
      "display_name": "Python 3"
    }
  },
  "cells": [
    {
      "cell_type": "markdown",
      "metadata": {
        "id": "SWSnJ_3p3n4_"
      },
      "source": [
        "# Chem4301 Computation Introduction\r\n",
        "## What this intro will address:\r\n",
        "\r\n",
        "- Python Distributions & Basics\r\n",
        "  - miniconda\r\n",
        "  - conda package manager\r\n",
        "  - useful packages\r\n",
        "- Jupyter Notebooks\r\n",
        "- Google Colaboratory\r\n",
        "- Basic Scripting\r\n",
        "  - Data Types\r\n",
        "  - Variables\r\n",
        "  - Lists and arrays\r\n",
        "  - Loops\r\n",
        "  - Calculations\r\n",
        "\r\n",
        "\r\n",
        "\r\n"
      ]
    },
    {
      "cell_type": "markdown",
      "metadata": {
        "id": "48ADw9wp5uNI"
      },
      "source": [
        "## Python Distibutions & Basics\r\n",
        "Python is an object oriented programming language used in scientific computing. It's easy use and the large availability of useful libraries are pro's. A con being it is relatively slow. That being said, many big data scientists use python everyday.\r\n",
        "\r\n",
        "###Anaconda & Miniconda\r\n",
        "The Anaconda python distribution is an expansive scientific python distribution that comes with the usedful conda  package manager. A condensed and useful version of this distro is the [Miniconda](https://docs.conda.io/en/latest/miniconda.html) distribution. This can easily be installed on all major OS's.\r\n",
        "\r\n",
        "#### Conda\r\n",
        "conda is a package manager for Anaconda python. From a command line terminal, one typically only needs to type ``` conda install package_name ``` to install a desired package. Other useful commands include;\r\n",
        "\r\n",
        "```conda list``` - List all installed packages\r\n",
        "\r\n",
        "```conda remove package_name``` - removes package\r\n",
        "\r\n",
        "```conda update package_name```\r\n",
        "\r\n",
        "```conda upgrade package_name```\r\n",
        "\r\n",
        "A full list of commands can be found [here](https://docs.conda.io/projects/conda/en/latest/commands.html). Package installation instructions can also usually be found on that packages documentation website. An example being, if I wanted to install numpy ( anaconda already comes with numpy...but lets suppose), according to their [docs](https://numpy.org/install/) I would install as so;\r\n",
        "```\r\n",
        "# Text beside hashes are comments\r\n",
        "# Best practice, use an environment rather than install in the base env\r\n",
        "\r\n",
        "conda create -n my-env # Create new python environment\r\n",
        "conda activate my-env # activate new environment\r\n",
        "conda config --env --add channels conda-forge # Add the conda-forge channel to conds\r\n",
        "conda install numpy # The actual install command\r\n",
        "```\r\n",
        "#### Useful packages\r\n",
        "For this course, I would assume you would need to use only these 3 packages.\r\n",
        "\r\n",
        "[numpy](https://numpy.org/) - for all your math needs\r\n",
        "\r\n",
        "[matplotlib](https://matplotlib.org/) - Plotting package\r\n",
        "\r\n",
        "[pandas](https://pandas.pydata.org/) - A powerful data analysis package\r\n",
        "\r\n",
        "\r\n"
      ]
    },
    {
      "cell_type": "markdown",
      "metadata": {
        "id": "CWuaXhRTCRcx"
      },
      "source": [
        "## Jupyter Notebooks\r\n",
        "\r\n",
        "[Jupyter notebooks](https://jupyter.org/) are interactive, web hosted documents that one can write text, markdown, HTML, LaTeX, and python among many other languages. They are easy to use, have many useful features, and make sharing and displaying what you are working on very simple. It's much better to be able to interactively tweak your code and show images etc. than to have a python script run for a day and a half and have an error.  This document is a jupyter notebook. If you so choose, you're more than welcome to do your work in a jupyter notebooks. If you have a GUI installation of Anaconda you can click on the jupyter widget or if you use a terminal you can type jupyter notebook and copy/paste the browser link into your browser of choice. "
      ]
    },
    {
      "cell_type": "markdown",
      "metadata": {
        "id": "cjxtfzbKFZNt"
      },
      "source": [
        "## Google Colaboratory\r\n",
        "\r\n",
        "[Google Colaboratory](https://colab.research.google.com/notebooks/intro.ipynb) is a  drive-like environment for collaboratively working on jupyter notebooks. I will be using this tool for recitations, you may also use it to submit homeworkes and work on challange questions, etc. As far as I can tell (I'm still fairely new to it) it works just like a jupyer notebook, however it should have many major packages preinstalled. To install a package that is not currently installed in a colab notebook, just type a bang (!) in front of it (i.e. ```!pip install package_name```, pip is a python package manager similiar to conda)."
      ]
    },
    {
      "cell_type": "markdown",
      "metadata": {
        "id": "Q-X0yiKIZTle"
      },
      "source": [
        "## Basic Scripting\r\n",
        "### Data Types\r\n",
        "  - str: string data type, think words or letters i.e. ```'This is a String'``` and ```['this','is','a','list','of','strings']```\r\n",
        "\r\n",
        "  - int: Integer data are whole numbers. i.e.``` [1,2,3,4,5,6]``` is a list of integers\r\n",
        "\r\n",
        "  - float: float data are decimals, such as ```1.2364534``` or ```1.0```\r\n",
        "\r\n",
        "  - bool: boolean data is either ```True``` or ```False```\r\n",
        "\r\n",
        "### Variables\r\n",
        "Setting variables in python is easy."
      ]
    },
    {
      "cell_type": "code",
      "metadata": {
        "colab": {
          "base_uri": "https://localhost:8080/"
        },
        "id": "qTNjYrvccB1W",
        "outputId": "f47bd8b1-1ab7-4929-a558-0cf211a4401f"
      },
      "source": [
        "my_var = 'this is my variable'\r\n",
        "print(f'my variable, {my_var}is a {type(my_var)}')"
      ],
      "execution_count": 6,
      "outputs": [
        {
          "output_type": "stream",
          "text": [
            "my variable, this is my variableis a <class 'str'>\n"
          ],
          "name": "stdout"
        }
      ]
    },
    {
      "cell_type": "code",
      "metadata": {
        "colab": {
          "base_uri": "https://localhost:8080/"
        },
        "id": "Ye0M5fHkcLH_",
        "outputId": "083670ea-60fe-40e8-dec0-4a4a61aaf7a2"
      },
      "source": [
        "# You can also easily overwrite variables\r\n",
        "my_var = 64.0\r\n",
        "print(f'now my variable, {my_var}is a {type(my_var)}')"
      ],
      "execution_count": 9,
      "outputs": [
        {
          "output_type": "stream",
          "text": [
            "now my variable, 64.0is a <class 'float'>\n"
          ],
          "name": "stdout"
        }
      ]
    },
    {
      "cell_type": "markdown",
      "metadata": {
        "id": "szjllsWRdS1h"
      },
      "source": [
        "### Lists and Arrays\r\n",
        "Lists and arrays can be used to store and manipulate many types of data. Lists can hold different types of data, while arrays store homogenous types of data. Lists are native in python while arrays must be imported, typically via numpy."
      ]
    },
    {
      "cell_type": "code",
      "metadata": {
        "colab": {
          "base_uri": "https://localhost:8080/"
        },
        "id": "L-rTrFY2ehue",
        "outputId": "3a6b9329-b3ff-4bb7-adc9-ba7c142432a4"
      },
      "source": [
        "my_list = [] # Empty\r\n",
        "my_list.append('my_string') # adding to list\r\n",
        "my_list.append(1)\r\n",
        "my_list.append(2.0)\r\n",
        "my_list.append(True)\r\n",
        "print(f'My multi datatype list, {my_list}')"
      ],
      "execution_count": 10,
      "outputs": [
        {
          "output_type": "stream",
          "text": [
            "My multi datatype lisr, ['my_string', 1, 2.0, True]\n"
          ],
          "name": "stdout"
        }
      ]
    },
    {
      "cell_type": "code",
      "metadata": {
        "colab": {
          "base_uri": "https://localhost:8080/"
        },
        "id": "UM4QraBoe6aT",
        "outputId": "562bfb3e-6dae-4b2e-c303-6d5d55501230"
      },
      "source": [
        "import numpy as np\r\n",
        "my_array = np.array((1,2,3,4,5,6))\r\n",
        "my_array_2 = np.array(('these','are','strings'),dtype=str)\r\n",
        "print(f'{my_array}: datatype{my_array.dtype}, {my_array_2}: datatype{my_array_2.dtype}')\r\n",
        "my_array_3 = np.array(('cannot','print','this',1.0))\r\n",
        "print(f'my_array_3: datatype{my_array_3.dtype}') # The last entry is a float not a str"
      ],
      "execution_count": 25,
      "outputs": [
        {
          "output_type": "stream",
          "text": [
            "[1 2 3 4 5 6]: datatypeint64, ['these' 'are' 'strings']: datatype<U7\n",
            "my_array_3: datatype<U6\n"
          ],
          "name": "stdout"
        }
      ]
    },
    {
      "cell_type": "code",
      "metadata": {
        "colab": {
          "base_uri": "https://localhost:8080/"
        },
        "id": "NHtFrh05fY7K",
        "outputId": "8c877fab-c637-4331-8b33-f3297ac369b8"
      },
      "source": [
        "# Python lists and arrays are 0-indexed meaning that the first entry in each list/array can be called by a statement\r\n",
        "# such as list[0]\r\n",
        "print(my_list[0])"
      ],
      "execution_count": 26,
      "outputs": [
        {
          "output_type": "stream",
          "text": [
            "my_string\n"
          ],
          "name": "stdout"
        }
      ]
    },
    {
      "cell_type": "code",
      "metadata": {
        "colab": {
          "base_uri": "https://localhost:8080/"
        },
        "id": "lWZIP3tuhd-5",
        "outputId": "ea74041a-b885-4460-cc82-6dcbc4c16d46"
      },
      "source": [
        "# We can also call on the final element of a list through negative indexing\r\n",
        "print(f'{my_list[-1]} = {my_list[3]} ')"
      ],
      "execution_count": 27,
      "outputs": [
        {
          "output_type": "stream",
          "text": [
            "True = True \n"
          ],
          "name": "stdout"
        }
      ]
    },
    {
      "cell_type": "code",
      "metadata": {
        "colab": {
          "base_uri": "https://localhost:8080/"
        },
        "id": "v-dZxwkfhvfB",
        "outputId": "fd5e31fb-2e2b-4731-8091-3af4508fde43"
      },
      "source": [
        "# Each list and array will have a length and each array will have a shape as well\r\n",
        "# The shape of an array is important in matrix operations\r\n",
        "print(len(my_list))\r\n",
        "print(len(my_array))\r\n",
        "print(my_array.shape)"
      ],
      "execution_count": 30,
      "outputs": [
        {
          "output_type": "stream",
          "text": [
            "4\n",
            "6\n",
            "(6,)\n"
          ],
          "name": "stdout"
        }
      ]
    },
    {
      "cell_type": "code",
      "metadata": {
        "colab": {
          "base_uri": "https://localhost:8080/"
        },
        "id": "ny1D8JmOh8qM",
        "outputId": "dc51e2ea-c135-4c67-e91b-96ba0d4ba691"
      },
      "source": [
        "new_array=np.ones((3,2))\r\n",
        "print(f'{new_array} : shape is {new_array.shape} (dimension, elements in dimension')"
      ],
      "execution_count": 38,
      "outputs": [
        {
          "output_type": "stream",
          "text": [
            "[[1. 1.]\n",
            " [1. 1.]\n",
            " [1. 1.]] : shape is (3, 2)\n"
          ],
          "name": "stdout"
        }
      ]
    },
    {
      "cell_type": "code",
      "metadata": {
        "colab": {
          "base_uri": "https://localhost:8080/"
        },
        "id": "K8AVRGxRipOr",
        "outputId": "7990c503-7139-45af-90e3-e82d853a3a0f"
      },
      "source": [
        "# We can slice our arrays row or columnwise as so\r\n",
        "transform = new_array * np.array((3,8))\r\n",
        "print(transform)\r\n",
        "print(transform[:,0]) # Select first element in each dimension\r\n",
        "print(transform[0,:]) # select each element in first dimension"
      ],
      "execution_count": 42,
      "outputs": [
        {
          "output_type": "stream",
          "text": [
            "[[3. 8.]\n",
            " [3. 8.]\n",
            " [3. 8.]]\n",
            "[3. 3. 3.]\n",
            "[3. 8.]\n"
          ],
          "name": "stdout"
        }
      ]
    },
    {
      "cell_type": "markdown",
      "metadata": {
        "id": "rRUqauQdlCgH"
      },
      "source": [
        "### Loops\r\n",
        "for loops, it is very important that the commands be below the statement (enter) and either 4 spaces or a tab from the statement beginning.\r\n",
        "#### If statement\r\n",
        "Syntax\r\n",
        "```\r\n",
        "if condition:\r\n",
        "  command\r\n",
        "elif other condition: # Else if\r\n",
        "  different command\r\n",
        "else:\r\n",
        "  yet another different command\r\n",
        "```\r\n",
        "For an if statement, if the condition is satisfied do the first command, else if, do the second, else all other conditions, do the third\r\n",
        "\r\n"
      ]
    },
    {
      "cell_type": "code",
      "metadata": {
        "colab": {
          "base_uri": "https://localhost:8080/"
        },
        "id": "JlOKL8LWkAY1",
        "outputId": "13cc22eb-cee9-4c0a-c01e-60183f610f2a"
      },
      "source": [
        "if type(my_list[0]) is str:\r\n",
        "  print('It\\'s a string')\r\n",
        "else:\r\n",
        "  print('not a string')\r\n",
        "\r\n",
        "if type(my_list[0]) is int:\r\n",
        "  print('It\\'s a int')\r\n",
        "elif type(my_list[0]) is float:\r\n",
        "  print('it\\'s a float')\r\n",
        "else:\r\n",
        "  print('neither int nor float')"
      ],
      "execution_count": 45,
      "outputs": [
        {
          "output_type": "stream",
          "text": [
            "It's a string\n",
            "neither int nor float\n"
          ],
          "name": "stdout"
        }
      ]
    },
    {
      "cell_type": "markdown",
      "metadata": {
        "id": "Q5sy3NPsn5S_"
      },
      "source": [
        "#### While loop\r\n",
        "Syntax\r\n",
        "```\r\n",
        "while condition:\r\n",
        "  command\r\n",
        "```\r\n",
        "While the condition is satisfied, do the command\r\n"
      ]
    },
    {
      "cell_type": "code",
      "metadata": {
        "colab": {
          "base_uri": "https://localhost:8080/"
        },
        "id": "QzMnNKnbnbej",
        "outputId": "a4430779-27de-4adc-b959-127a3c7baa77"
      },
      "source": [
        "number = 0\r\n",
        "while number < 7:\r\n",
        "  print(f'{number} is less than 7')\r\n",
        "  number += 1    # += adds 1 to number and redefines number as number+1"
      ],
      "execution_count": 46,
      "outputs": [
        {
          "output_type": "stream",
          "text": [
            "0 is less than 7\n",
            "1 is less than 7\n",
            "2 is less than 7\n",
            "3 is less than 7\n",
            "4 is less than 7\n",
            "5 is less than 7\n",
            "6 is less than 7\n"
          ],
          "name": "stdout"
        }
      ]
    },
    {
      "cell_type": "markdown",
      "metadata": {
        "id": "_A6o-GCTpKnv"
      },
      "source": [
        "#### For loop\r\n",
        "Syntax\r\n",
        "```\r\n",
        "for value in sequence\r\n",
        "    command\r\n",
        "```\r\n",
        "for a value in a sequence, do some command, this is a little more abstract, but (imo) the most widely used loop in calculations."
      ]
    },
    {
      "cell_type": "code",
      "metadata": {
        "colab": {
          "base_uri": "https://localhost:8080/"
        },
        "id": "nS-BoNZGo4Nz",
        "outputId": "46d4ece6-ce24-4f8e-9d7a-90d8cdb87710"
      },
      "source": [
        "for element in my_list:\r\n",
        "  print(element, type(element))"
      ],
      "execution_count": 47,
      "outputs": [
        {
          "output_type": "stream",
          "text": [
            "my_string <class 'str'>\n",
            "1 <class 'int'>\n",
            "2.0 <class 'float'>\n",
            "True <class 'bool'>\n"
          ],
          "name": "stdout"
        }
      ]
    },
    {
      "cell_type": "markdown",
      "metadata": {
        "id": "j1WXwyRYqSui"
      },
      "source": [
        "for loops are also useful for manipulating lists/arrays index-wise"
      ]
    },
    {
      "cell_type": "code",
      "metadata": {
        "colab": {
          "base_uri": "https://localhost:8080/"
        },
        "id": "mvNrNhN3qG93",
        "outputId": "9dd4af2e-547d-4f52-c468-9dc6829ae5c3"
      },
      "source": [
        "for index,element in enumerate(my_list):\r\n",
        "  print(index,element)"
      ],
      "execution_count": 48,
      "outputs": [
        {
          "output_type": "stream",
          "text": [
            "0 my_string\n",
            "1 1\n",
            "2 2.0\n",
            "3 True\n"
          ],
          "name": "stdout"
        }
      ]
    },
    {
      "cell_type": "markdown",
      "metadata": {
        "id": "coDehlkOqvHl"
      },
      "source": [
        "Putting this all together we can create loops within loops"
      ]
    },
    {
      "cell_type": "code",
      "metadata": {
        "colab": {
          "base_uri": "https://localhost:8080/"
        },
        "id": "Be4xi470qnoV",
        "outputId": "e862d19f-998d-40f2-a1b0-0b867f3bcf68"
      },
      "source": [
        "for index,element in enumerate(my_list):\r\n",
        "  if type(element) is str:\r\n",
        "    print(f'{index} {element}:string')\r\n",
        "  elif type(element) is int:\r\n",
        "    print(f'{index} {element}:int')\r\n",
        "  else:\r\n",
        "    print(f'{index} {element} Ok this is getting old')"
      ],
      "execution_count": 52,
      "outputs": [
        {
          "output_type": "stream",
          "text": [
            "0 my_string:string\n",
            "1 1:int\n",
            "2 2.0 Ok this is getting old\n",
            "3 True Ok this is getting old\n"
          ],
          "name": "stdout"
        }
      ]
    },
    {
      "cell_type": "markdown",
      "metadata": {
        "id": "cpgWd8cBsGt0"
      },
      "source": [
        "#### Putting it all together: List Comprehension!\r\n",
        "While loops are useful and essential when beginning to learn python, sometimes we can cut corners ( and speed up out code) by using list comprehension. Lets say that we wanted to randomly generate some x and y data, and compile them into defined points.\r\n",
        " "
      ]
    },
    {
      "cell_type": "code",
      "metadata": {
        "colab": {
          "base_uri": "https://localhost:8080/"
        },
        "id": "GVvw-LKltLCX",
        "outputId": "b127e785-360f-4dfd-c96b-b22eab4001be"
      },
      "source": [
        "x = np.random.randint(50,size=10)\r\n",
        "y = np.random.randint(50,size=10)\r\n",
        "print(x)\r\n",
        "print(y)"
      ],
      "execution_count": 54,
      "outputs": [
        {
          "output_type": "stream",
          "text": [
            "[26 43 45 38 12  3  1  9 26 11]\n",
            "[46 28  9 26  7  8 40 26 44 43]\n"
          ],
          "name": "stdout"
        }
      ]
    },
    {
      "cell_type": "code",
      "metadata": {
        "colab": {
          "base_uri": "https://localhost:8080/"
        },
        "id": "v_GVlsSxuBAo",
        "outputId": "2150120c-c55d-447c-caf9-4c5e5734e387"
      },
      "source": [
        "points = np.array([(i,y[j]) for j,i in enumerate(x)])\r\n",
        "print(points)"
      ],
      "execution_count": 63,
      "outputs": [
        {
          "output_type": "stream",
          "text": [
            "[[26 46]\n",
            " [43 28]\n",
            " [45  9]\n",
            " [38 26]\n",
            " [12  7]\n",
            " [ 3  8]\n",
            " [ 1 40]\n",
            " [ 9 26]\n",
            " [26 44]\n",
            " [11 43]]\n"
          ],
          "name": "stdout"
        }
      ]
    },
    {
      "cell_type": "markdown",
      "metadata": {
        "id": "P6YY5wl6xGUu"
      },
      "source": [
        "### Calculations\r\n",
        "```\r\n",
        "Operations native to python:\r\n",
        "+ : addition\r\n",
        "- : subtraction\r\n",
        "* : multiplication\r\n",
        "/ : division\r\n",
        "**(value) : exponent\r\n",
        "E(value) : 10^(value)\r\n",
        "% : modulo ( returns remainder of division\r\n",
        "Numpy operations and values:\r\n",
        "np.exp(value) : exp(value)\r\n",
        "np.log(value) : nat. log\r\n",
        "np.log10(value) : log base 10\r\n",
        "np.dot(x,y) : dot product\r\n",
        "np.mean(list) : average\r\n",
        "np.std(list) : standard deviation\r\n",
        "np.sqrt(value) : square root\r\n",
        "```"
      ]
    },
    {
      "cell_type": "code",
      "metadata": {
        "colab": {
          "base_uri": "https://localhost:8080/"
        },
        "id": "zIXGUT-Avk7L",
        "outputId": "f75c02a5-9d44-4b99-9f94-56ce5655296c"
      },
      "source": [
        "# Lets do a test calculations on x, y, and points\r\n",
        "# for this example, we will also define a generalized function to find the slope\r\n",
        "\r\n",
        "def find_slope(array,index1,index2):\r\n",
        "  x1 = array[index1][0]\r\n",
        "  print(f'x1 is {x1}')\r\n",
        "  x2 = array[index2][0]\r\n",
        "  print(f'x2 is {x2}')\r\n",
        "  y1 = array[index1][1]\r\n",
        "  print(f'y1 is {y1}')\r\n",
        "  y2 = array[index2][1]\r\n",
        "  print(f'y2 is {y2}')\r\n",
        "  m = (y2-y1)/(x2-x1)\r\n",
        "  print(f'Slope between point {index1 +1} and point {index2 + 1} is {m}')\r\n",
        "  return m \r\n",
        "# Let's test it out\r\n",
        "find_slope(points,0,6)"
      ],
      "execution_count": 77,
      "outputs": [
        {
          "output_type": "stream",
          "text": [
            "x1 is 26\n",
            "x2 is 1\n",
            "y1 is 46\n",
            "y2 is 40\n",
            "Slope between point 1 and point 7 is 0.24\n"
          ],
          "name": "stdout"
        },
        {
          "output_type": "execute_result",
          "data": {
            "text/plain": [
              "0.24"
            ]
          },
          "metadata": {
            "tags": []
          },
          "execution_count": 77
        }
      ]
    },
    {
      "cell_type": "markdown",
      "metadata": {
        "id": "jkIYMY8K39pj"
      },
      "source": [
        "### A little on Packages and Plotting"
      ]
    },
    {
      "cell_type": "code",
      "metadata": {
        "colab": {
          "base_uri": "https://localhost:8080/",
          "height": 374
        },
        "id": "v3JadMOm2wn-",
        "outputId": "56b05b84-3d58-4df9-e9c0-2c862e1d1112"
      },
      "source": [
        " # To use packages we must import them to the notebook, numpy is already imported\r\n",
        " from matplotlib import pyplot as plt\r\n",
        "\r\n",
        " # Lets plot our points\r\n",
        " fig, ax = plt.subplots()\r\n",
        " ax.scatter(points[:,0],points[:,1],label='data') # scatter plot of our points\r\n",
        " ax.legend() # let's put a legend in this\r\n",
        " # Lets draw a line between point 1 and 7\r\n",
        " ax.plot((points[0][0],points[6][0]),(points[0][1],points[6][1]))\r\n",
        " # Let's denote the slope of the line we calculated previously\r\n",
        " ax.annotate(f'Slope={find_slope(points,0,6)}',xy=(10,40))"
      ],
      "execution_count": 98,
      "outputs": [
        {
          "output_type": "stream",
          "text": [
            "x1 is 26\n",
            "x2 is 1\n",
            "y1 is 46\n",
            "y2 is 40\n",
            "Slope between point 1 and point 7 is 0.24\n"
          ],
          "name": "stdout"
        },
        {
          "output_type": "execute_result",
          "data": {
            "text/plain": [
              "Text(10, 40, 'Slope=0.24')"
            ]
          },
          "metadata": {
            "tags": []
          },
          "execution_count": 98
        },
        {
          "output_type": "display_data",
          "data": {
            "image/png": "[encoded data removed]",
            "text/plain": [
              "<Figure size 432x288 with 1 Axes>"
            ]
          },
          "metadata": {
            "tags": [],
            "needs_background": "light"
          }
        }
      ]
    },
    {
      "cell_type": "code",
      "metadata": {
        "id": "sLcd-ZwR4mSf"
      },
      "source": [
        "# Now lets try a histogram of a random distribution\r\n",
        "data = np.random.randint(50,size=100)"
      ],
      "execution_count": 110,
      "outputs": []
    },
    {
      "cell_type": "code",
      "metadata": {
        "colab": {
          "base_uri": "https://localhost:8080/",
          "height": 283
        },
        "id": "JsefcJPY-JgP",
        "outputId": "ba6f5705-61e0-443a-d3a8-dc95ff547cee"
      },
      "source": [
        "fig,ax = plt.subplots()\r\n",
        "ax.hist(data,bins=10)\r\n",
        "# Now we'll find the mean\r\n",
        "mean = np.around(np.mean(data),2)\r\n",
        "std = np.around(np.std(data),2)\r\n",
        "ax.annotate(f'$\\mu$={mean} \\n$\\sigma$={std}',xy=(0,13))\r\n",
        "#And put a line @ the mean\r\n",
        "ax.axvline(mean,c='black',label='mean')\r\n",
        "ax.axvspan(mean-std, mean+std, alpha=0.2, color='grey',label='std')\r\n",
        "ax.legend()\r\n"
      ],
      "execution_count": 123,
      "outputs": [
        {
          "output_type": "execute_result",
          "data": {
            "text/plain": [
              "<matplotlib.legend.Legend at 0x7fda86c9b1d0>"
            ]
          },
          "metadata": {
            "tags": []
          },
          "execution_count": 123
        },
        {
          "output_type": "display_data",
          "data": {
            "image/png": "[encoded data removed]",
            "text/plain": [
              "<Figure size 432x288 with 1 Axes>"
            ]
          },
          "metadata": {
            "tags": [],
            "needs_background": "light"
          }
        }
      ]
    },
    {
      "cell_type": "markdown",
      "metadata": {
        "id": "CtAA9bo0UHN3"
      },
      "source": [
        "### This is just a really quick introduction to these concepts and programs. Google and tutorials are truly your best friend with scientific programming."
      ]
    }
  ]
}